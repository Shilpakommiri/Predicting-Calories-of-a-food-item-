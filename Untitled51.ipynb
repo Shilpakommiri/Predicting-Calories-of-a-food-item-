{
  "nbformat": 4,
  "nbformat_minor": 0,
  "metadata": {
    "colab": {
      "provenance": []
    },
    "kernelspec": {
      "name": "python3",
      "display_name": "Python 3"
    },
    "language_info": {
      "name": "python"
    }
  },
  "cells": [
    {
      "cell_type": "code",
      "execution_count": 1,
      "metadata": {
        "colab": {
          "base_uri": "https://localhost:8080/"
        },
        "id": "Tqerv9QuAsPF",
        "outputId": "3f93f9c8-a7db-4f62-e628-00c39d5fa7c5"
      },
      "outputs": [
        {
          "output_type": "stream",
          "name": "stdout",
          "text": [
            "Requirement already satisfied: tensorflow in /usr/local/lib/python3.10/dist-packages (2.15.0)\n",
            "Requirement already satisfied: opencv-python in /usr/local/lib/python3.10/dist-packages (4.10.0.84)\n",
            "Requirement already satisfied: numpy in /usr/local/lib/python3.10/dist-packages (1.26.4)\n",
            "Requirement already satisfied: matplotlib in /usr/local/lib/python3.10/dist-packages (3.7.1)\n",
            "Requirement already satisfied: absl-py>=1.0.0 in /usr/local/lib/python3.10/dist-packages (from tensorflow) (1.4.0)\n",
            "Requirement already satisfied: astunparse>=1.6.0 in /usr/local/lib/python3.10/dist-packages (from tensorflow) (1.6.3)\n",
            "Requirement already satisfied: flatbuffers>=23.5.26 in /usr/local/lib/python3.10/dist-packages (from tensorflow) (24.3.25)\n",
            "Requirement already satisfied: gast!=0.5.0,!=0.5.1,!=0.5.2,>=0.2.1 in /usr/local/lib/python3.10/dist-packages (from tensorflow) (0.6.0)\n",
            "Requirement already satisfied: google-pasta>=0.1.1 in /usr/local/lib/python3.10/dist-packages (from tensorflow) (0.2.0)\n",
            "Requirement already satisfied: h5py>=2.9.0 in /usr/local/lib/python3.10/dist-packages (from tensorflow) (3.11.0)\n",
            "Requirement already satisfied: libclang>=13.0.0 in /usr/local/lib/python3.10/dist-packages (from tensorflow) (18.1.1)\n",
            "Requirement already satisfied: ml-dtypes~=0.2.0 in /usr/local/lib/python3.10/dist-packages (from tensorflow) (0.2.0)\n",
            "Requirement already satisfied: opt-einsum>=2.3.2 in /usr/local/lib/python3.10/dist-packages (from tensorflow) (3.3.0)\n",
            "Requirement already satisfied: packaging in /usr/local/lib/python3.10/dist-packages (from tensorflow) (24.1)\n",
            "Requirement already satisfied: protobuf!=4.21.0,!=4.21.1,!=4.21.2,!=4.21.3,!=4.21.4,!=4.21.5,<5.0.0dev,>=3.20.3 in /usr/local/lib/python3.10/dist-packages (from tensorflow) (3.20.3)\n",
            "Requirement already satisfied: setuptools in /usr/local/lib/python3.10/dist-packages (from tensorflow) (71.0.4)\n",
            "Requirement already satisfied: six>=1.12.0 in /usr/local/lib/python3.10/dist-packages (from tensorflow) (1.16.0)\n",
            "Requirement already satisfied: termcolor>=1.1.0 in /usr/local/lib/python3.10/dist-packages (from tensorflow) (2.4.0)\n",
            "Requirement already satisfied: typing-extensions>=3.6.6 in /usr/local/lib/python3.10/dist-packages (from tensorflow) (4.12.2)\n",
            "Requirement already satisfied: wrapt<1.15,>=1.11.0 in /usr/local/lib/python3.10/dist-packages (from tensorflow) (1.14.1)\n",
            "Requirement already satisfied: tensorflow-io-gcs-filesystem>=0.23.1 in /usr/local/lib/python3.10/dist-packages (from tensorflow) (0.37.1)\n",
            "Requirement already satisfied: grpcio<2.0,>=1.24.3 in /usr/local/lib/python3.10/dist-packages (from tensorflow) (1.64.1)\n",
            "Requirement already satisfied: tensorboard<2.16,>=2.15 in /usr/local/lib/python3.10/dist-packages (from tensorflow) (2.15.2)\n",
            "Requirement already satisfied: tensorflow-estimator<2.16,>=2.15.0 in /usr/local/lib/python3.10/dist-packages (from tensorflow) (2.15.0)\n",
            "Requirement already satisfied: keras<2.16,>=2.15.0 in /usr/local/lib/python3.10/dist-packages (from tensorflow) (2.15.0)\n",
            "Requirement already satisfied: contourpy>=1.0.1 in /usr/local/lib/python3.10/dist-packages (from matplotlib) (1.2.1)\n",
            "Requirement already satisfied: cycler>=0.10 in /usr/local/lib/python3.10/dist-packages (from matplotlib) (0.12.1)\n",
            "Requirement already satisfied: fonttools>=4.22.0 in /usr/local/lib/python3.10/dist-packages (from matplotlib) (4.53.1)\n",
            "Requirement already satisfied: kiwisolver>=1.0.1 in /usr/local/lib/python3.10/dist-packages (from matplotlib) (1.4.5)\n",
            "Requirement already satisfied: pillow>=6.2.0 in /usr/local/lib/python3.10/dist-packages (from matplotlib) (9.4.0)\n",
            "Requirement already satisfied: pyparsing>=2.3.1 in /usr/local/lib/python3.10/dist-packages (from matplotlib) (3.1.2)\n",
            "Requirement already satisfied: python-dateutil>=2.7 in /usr/local/lib/python3.10/dist-packages (from matplotlib) (2.8.2)\n",
            "Requirement already satisfied: wheel<1.0,>=0.23.0 in /usr/local/lib/python3.10/dist-packages (from astunparse>=1.6.0->tensorflow) (0.43.0)\n",
            "Requirement already satisfied: google-auth<3,>=1.6.3 in /usr/local/lib/python3.10/dist-packages (from tensorboard<2.16,>=2.15->tensorflow) (2.27.0)\n",
            "Requirement already satisfied: google-auth-oauthlib<2,>=0.5 in /usr/local/lib/python3.10/dist-packages (from tensorboard<2.16,>=2.15->tensorflow) (1.2.1)\n",
            "Requirement already satisfied: markdown>=2.6.8 in /usr/local/lib/python3.10/dist-packages (from tensorboard<2.16,>=2.15->tensorflow) (3.6)\n",
            "Requirement already satisfied: requests<3,>=2.21.0 in /usr/local/lib/python3.10/dist-packages (from tensorboard<2.16,>=2.15->tensorflow) (2.31.0)\n",
            "Requirement already satisfied: tensorboard-data-server<0.8.0,>=0.7.0 in /usr/local/lib/python3.10/dist-packages (from tensorboard<2.16,>=2.15->tensorflow) (0.7.2)\n",
            "Requirement already satisfied: werkzeug>=1.0.1 in /usr/local/lib/python3.10/dist-packages (from tensorboard<2.16,>=2.15->tensorflow) (3.0.3)\n",
            "Requirement already satisfied: cachetools<6.0,>=2.0.0 in /usr/local/lib/python3.10/dist-packages (from google-auth<3,>=1.6.3->tensorboard<2.16,>=2.15->tensorflow) (5.4.0)\n",
            "Requirement already satisfied: pyasn1-modules>=0.2.1 in /usr/local/lib/python3.10/dist-packages (from google-auth<3,>=1.6.3->tensorboard<2.16,>=2.15->tensorflow) (0.4.0)\n",
            "Requirement already satisfied: rsa<5,>=3.1.4 in /usr/local/lib/python3.10/dist-packages (from google-auth<3,>=1.6.3->tensorboard<2.16,>=2.15->tensorflow) (4.9)\n",
            "Requirement already satisfied: requests-oauthlib>=0.7.0 in /usr/local/lib/python3.10/dist-packages (from google-auth-oauthlib<2,>=0.5->tensorboard<2.16,>=2.15->tensorflow) (1.3.1)\n",
            "Requirement already satisfied: charset-normalizer<4,>=2 in /usr/local/lib/python3.10/dist-packages (from requests<3,>=2.21.0->tensorboard<2.16,>=2.15->tensorflow) (3.3.2)\n",
            "Requirement already satisfied: idna<4,>=2.5 in /usr/local/lib/python3.10/dist-packages (from requests<3,>=2.21.0->tensorboard<2.16,>=2.15->tensorflow) (3.7)\n",
            "Requirement already satisfied: urllib3<3,>=1.21.1 in /usr/local/lib/python3.10/dist-packages (from requests<3,>=2.21.0->tensorboard<2.16,>=2.15->tensorflow) (2.0.7)\n",
            "Requirement already satisfied: certifi>=2017.4.17 in /usr/local/lib/python3.10/dist-packages (from requests<3,>=2.21.0->tensorboard<2.16,>=2.15->tensorflow) (2024.7.4)\n",
            "Requirement already satisfied: MarkupSafe>=2.1.1 in /usr/local/lib/python3.10/dist-packages (from werkzeug>=1.0.1->tensorboard<2.16,>=2.15->tensorflow) (2.1.5)\n",
            "Requirement already satisfied: pyasn1<0.7.0,>=0.4.6 in /usr/local/lib/python3.10/dist-packages (from pyasn1-modules>=0.2.1->google-auth<3,>=1.6.3->tensorboard<2.16,>=2.15->tensorflow) (0.6.0)\n",
            "Requirement already satisfied: oauthlib>=3.0.0 in /usr/local/lib/python3.10/dist-packages (from requests-oauthlib>=0.7.0->google-auth-oauthlib<2,>=0.5->tensorboard<2.16,>=2.15->tensorflow) (3.2.2)\n"
          ]
        }
      ],
      "source": [
        "pip install tensorflow opencv-python numpy matplotlib"
      ]
    },
    {
      "cell_type": "code",
      "source": [
        "import pandas as pd\n",
        "from sklearn.model_selection import train_test_split\n",
        "from sklearn.preprocessing import StandardScaler\n",
        "from sklearn.linear_model import LinearRegression\n",
        "from sklearn.metrics import mean_squared_error, r2_score"
      ],
      "metadata": {
        "id": "TG_RSexwA1NA"
      },
      "execution_count": 2,
      "outputs": []
    },
    {
      "cell_type": "code",
      "source": [
        "file_path = 'FOOD-DATA-GROUP1.csv'\n",
        "data = pd.read_csv(\"/content/FOOD-DATA-GROUP1.csv\")\n"
      ],
      "metadata": {
        "id": "xggykbeWA9Go"
      },
      "execution_count": 3,
      "outputs": []
    },
    {
      "cell_type": "code",
      "source": [
        "print(data.head())"
      ],
      "metadata": {
        "colab": {
          "base_uri": "https://localhost:8080/"
        },
        "id": "c001hBusBBFN",
        "outputId": "2276d0d3-906b-4d6c-ad48-09fda7fb93e8"
      },
      "execution_count": 8,
      "outputs": [
        {
          "output_type": "stream",
          "name": "stdout",
          "text": [
            "   Unnamed: 0.1  Unnamed: 0                              food  Caloric Value  \\\n",
            "0             0           0                      cream cheese             51   \n",
            "1             1           1                 neufchatel cheese            215   \n",
            "2             2           2  requeijao cremoso light catupiry             49   \n",
            "3             3           3                    ricotta cheese             30   \n",
            "4             4           4              cream cheese low fat             30   \n",
            "\n",
            "    Fat  Saturated Fats  Monounsaturated Fats  Polyunsaturated Fats  \\\n",
            "0   5.0             2.9                   1.3                 0.200   \n",
            "1  19.4            10.9                   4.9                 0.800   \n",
            "2   3.6             2.3                   0.9                 0.000   \n",
            "3   2.0             1.3                   0.5                 0.002   \n",
            "4   2.3             1.4                   0.6                 0.042   \n",
            "\n",
            "   Carbohydrates  Sugars  ...  Calcium  Copper   Iron  Magnesium  Manganese  \\\n",
            "0            0.8   0.500  ...    0.008  14.100  0.082      0.027      1.300   \n",
            "1            3.1   2.700  ...   99.500   0.034  0.100      8.500      0.088   \n",
            "2            0.9   3.400  ...    0.000   0.000  0.000      0.000      0.000   \n",
            "3            1.5   0.091  ...    0.097  41.200  0.097      0.096      4.000   \n",
            "4            1.2   0.900  ...   22.200   0.072  0.008      1.200      0.098   \n",
            "\n",
            "   Phosphorus  Potassium  Selenium   Zinc  Nutrition Density  \n",
            "0       0.091       15.5    19.100  0.039              7.070  \n",
            "1     117.300      129.2     0.054  0.700            130.100  \n",
            "2       0.000        0.0     0.000  0.000              5.400  \n",
            "3       0.024       30.8    43.800  0.035              5.196  \n",
            "4      22.800       37.1     0.034  0.053             27.007  \n",
            "\n",
            "[5 rows x 37 columns]\n"
          ]
        }
      ]
    },
    {
      "cell_type": "code",
      "source": [
        "print(data.tail())"
      ],
      "metadata": {
        "colab": {
          "base_uri": "https://localhost:8080/"
        },
        "id": "I4qS21OXBIdk",
        "outputId": "a6e2ff6e-56b4-4761-8b82-6570af0ae98d"
      },
      "execution_count": 9,
      "outputs": [
        {
          "output_type": "stream",
          "name": "stdout",
          "text": [
            "     Unnamed: 0.1  Unnamed: 0                              food  \\\n",
            "546           546         546             chinook salmon smoked   \n",
            "547           547         547                      cisco smoked   \n",
            "548           548         548                    haddock smoked   \n",
            "549           549         549                  whitefish smoked   \n",
            "550           550         550  red salmon sockeye filets smoked   \n",
            "\n",
            "     Caloric Value   Fat  Saturated Fats  Monounsaturated Fats  \\\n",
            "546            159   5.9           1.300                 2.800   \n",
            "547             50   3.4           0.500                 1.600   \n",
            "548             33   0.3           0.049                 0.006   \n",
            "549            147   1.3           0.300                 0.400   \n",
            "550            373  12.3           2.800                 4.300   \n",
            "\n",
            "     Polyunsaturated Fats  Carbohydrates  Sugars  ...  Calcium  Copper  Iron  \\\n",
            "546                 1.400            0.0     0.0  ...     15.0   0.300   1.2   \n",
            "547                 0.600            0.0     0.0  ...      7.4   0.015   0.1   \n",
            "548                 0.055            0.0     0.0  ...     13.9   0.001   0.4   \n",
            "549                 0.400            0.0     0.0  ...     24.5   0.400   0.7   \n",
            "550                 3.700            0.0     0.0  ...     62.6   0.200   1.1   \n",
            "\n",
            "     Magnesium  Manganese  Phosphorus  Potassium  Selenium   Zinc  \\\n",
            "546       24.5      0.055       223.0      238.0     0.027  0.400   \n",
            "547        4.8      0.047        42.5       82.9     0.050  0.076   \n",
            "548       15.3      0.075        71.0      117.4     0.063  0.100   \n",
            "549       31.3      0.091       179.5      575.3     0.030  0.700   \n",
            "550       62.6      0.048       702.0     1036.8     0.026  1.200   \n",
            "\n",
            "     Nutrition Density  \n",
            "546             47.038  \n",
            "547             15.576  \n",
            "548             21.719  \n",
            "549             58.398  \n",
            "550            141.587  \n",
            "\n",
            "[5 rows x 37 columns]\n"
          ]
        }
      ]
    },
    {
      "cell_type": "code",
      "source": [
        "print(data.info())"
      ],
      "metadata": {
        "colab": {
          "base_uri": "https://localhost:8080/"
        },
        "id": "ehYLjosCBk8Q",
        "outputId": "3574bdac-2514-407c-df00-46d05a31ff8c"
      },
      "execution_count": 10,
      "outputs": [
        {
          "output_type": "stream",
          "name": "stdout",
          "text": [
            "<class 'pandas.core.frame.DataFrame'>\n",
            "RangeIndex: 551 entries, 0 to 550\n",
            "Data columns (total 37 columns):\n",
            " #   Column                Non-Null Count  Dtype  \n",
            "---  ------                --------------  -----  \n",
            " 0   Unnamed: 0.1          551 non-null    int64  \n",
            " 1   Unnamed: 0            551 non-null    int64  \n",
            " 2   food                  551 non-null    object \n",
            " 3   Caloric Value         551 non-null    int64  \n",
            " 4   Fat                   551 non-null    float64\n",
            " 5   Saturated Fats        551 non-null    float64\n",
            " 6   Monounsaturated Fats  551 non-null    float64\n",
            " 7   Polyunsaturated Fats  551 non-null    float64\n",
            " 8   Carbohydrates         551 non-null    float64\n",
            " 9   Sugars                551 non-null    float64\n",
            " 10  Protein               551 non-null    float64\n",
            " 11  Dietary Fiber         551 non-null    float64\n",
            " 12  Cholesterol           551 non-null    float64\n",
            " 13  Sodium                551 non-null    float64\n",
            " 14  Water                 551 non-null    float64\n",
            " 15  Vitamin A             551 non-null    float64\n",
            " 16  Vitamin B1            551 non-null    float64\n",
            " 17  Vitamin B11           551 non-null    float64\n",
            " 18  Vitamin B12           551 non-null    float64\n",
            " 19  Vitamin B2            551 non-null    float64\n",
            " 20  Vitamin B3            551 non-null    float64\n",
            " 21  Vitamin B5            551 non-null    float64\n",
            " 22  Vitamin B6            551 non-null    float64\n",
            " 23  Vitamin C             551 non-null    float64\n",
            " 24  Vitamin D             551 non-null    float64\n",
            " 25  Vitamin E             551 non-null    float64\n",
            " 26  Vitamin K             551 non-null    float64\n",
            " 27  Calcium               551 non-null    float64\n",
            " 28  Copper                551 non-null    float64\n",
            " 29  Iron                  551 non-null    float64\n",
            " 30  Magnesium             551 non-null    float64\n",
            " 31  Manganese             551 non-null    float64\n",
            " 32  Phosphorus            551 non-null    float64\n",
            " 33  Potassium             551 non-null    float64\n",
            " 34  Selenium              551 non-null    float64\n",
            " 35  Zinc                  551 non-null    float64\n",
            " 36  Nutrition Density     551 non-null    float64\n",
            "dtypes: float64(33), int64(3), object(1)\n",
            "memory usage: 159.4+ KB\n",
            "None\n"
          ]
        }
      ]
    },
    {
      "cell_type": "code",
      "source": [
        "data = data.dropna(subset=['Caloric Value'])"
      ],
      "metadata": {
        "id": "sNsCGxccBm5u"
      },
      "execution_count": 11,
      "outputs": []
    },
    {
      "cell_type": "code",
      "source": [
        "features = ['Protein','Carbohydrates','Fat']\n",
        "X = data[features]\n",
        "y = data['Caloric Value']"
      ],
      "metadata": {
        "id": "BMt_2nMIBqNz"
      },
      "execution_count": 12,
      "outputs": []
    },
    {
      "cell_type": "code",
      "source": [
        "X.fillna(X.mean(), inplace=True)\n",
        "X_train, X_test, y_train, y_test = train_test_split(X, y, test_size=0.2, random_state=42)\n"
      ],
      "metadata": {
        "colab": {
          "base_uri": "https://localhost:8080/"
        },
        "id": "d0dwMfKzB2Fg",
        "outputId": "03504a84-5422-4fc3-9594-ae89285f0737"
      },
      "execution_count": 13,
      "outputs": [
        {
          "output_type": "stream",
          "name": "stderr",
          "text": [
            "<ipython-input-13-4d90b1c7e641>:1: SettingWithCopyWarning: \n",
            "A value is trying to be set on a copy of a slice from a DataFrame\n",
            "\n",
            "See the caveats in the documentation: https://pandas.pydata.org/pandas-docs/stable/user_guide/indexing.html#returning-a-view-versus-a-copy\n",
            "  X.fillna(X.mean(), inplace=True)\n"
          ]
        }
      ]
    },
    {
      "cell_type": "code",
      "source": [
        "scaler = StandardScaler()\n",
        "X_train_scaled = scaler.fit_transform(X_train)\n",
        "X_test_scaled = scaler.transform(X_test)"
      ],
      "metadata": {
        "id": "2NiAIqWeB5xL"
      },
      "execution_count": 14,
      "outputs": []
    },
    {
      "cell_type": "code",
      "source": [
        "model = LinearRegression()\n",
        "model.fit(X_train_scaled, y_train)\n",
        "y_pred = model.predict(X_test_scaled)\n",
        "mse = mean_squared_error(y_test, y_pred)\n",
        "r2 = r2_score(y_test, y_pred)"
      ],
      "metadata": {
        "id": "k2HpUYlOB_qC"
      },
      "execution_count": 15,
      "outputs": []
    },
    {
      "cell_type": "code",
      "source": [
        "print(f'Mean Squared Error: {mse:.2f}')"
      ],
      "metadata": {
        "colab": {
          "base_uri": "https://localhost:8080/"
        },
        "id": "9m7TVwXCCDk8",
        "outputId": "45807a96-afa9-4166-a469-49f08f8e25cb"
      },
      "execution_count": 16,
      "outputs": [
        {
          "output_type": "stream",
          "name": "stdout",
          "text": [
            "Mean Squared Error: 840.86\n"
          ]
        }
      ]
    },
    {
      "cell_type": "code",
      "source": [
        "print(f'R^2 Score: {r2:.2f}')"
      ],
      "metadata": {
        "colab": {
          "base_uri": "https://localhost:8080/"
        },
        "id": "BhU5FEl-CGpA",
        "outputId": "db25f051-0500-4b22-dc34-37743cc3c1ba"
      },
      "execution_count": 17,
      "outputs": [
        {
          "output_type": "stream",
          "name": "stdout",
          "text": [
            "R^2 Score: 0.98\n"
          ]
        }
      ]
    },
    {
      "cell_type": "code",
      "source": [
        "example_food = pd.DataFrame({\n",
        "    'Protein': [0.8],\n",
        "    'Carbohydrates': [0.9],\n",
        "    'Fat': [1]\n",
        "})"
      ],
      "metadata": {
        "id": "b87vLDfICKWk"
      },
      "execution_count": 26,
      "outputs": []
    },
    {
      "cell_type": "code",
      "source": [
        "example_food_scaled = scaler.transform(example_food)"
      ],
      "metadata": {
        "id": "aa71yFYqCOig"
      },
      "execution_count": 27,
      "outputs": []
    },
    {
      "cell_type": "code",
      "source": [
        "predicted_calories = model.predict(example_food_scaled)"
      ],
      "metadata": {
        "id": "Z5XsBDOGCR0I"
      },
      "execution_count": 28,
      "outputs": []
    },
    {
      "cell_type": "code",
      "source": [
        "print(f'Predicted calories for the example food: {predicted_calories[0]:.2f}')"
      ],
      "metadata": {
        "colab": {
          "base_uri": "https://localhost:8080/"
        },
        "id": "J1K-kej9CVn0",
        "outputId": "7b2a21ad-6ff1-42af-9966-78b9dba5f1ff"
      },
      "execution_count": 29,
      "outputs": [
        {
          "output_type": "stream",
          "name": "stdout",
          "text": [
            "Predicted calories for the example food: 19.63\n"
          ]
        }
      ]
    },
    {
      "cell_type": "code",
      "source": [],
      "metadata": {
        "id": "GrJv4DyxCZ1c"
      },
      "execution_count": null,
      "outputs": []
    }
  ]
}